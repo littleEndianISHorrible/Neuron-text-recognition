{
 "cells": [
  {
   "cell_type": "code",
   "execution_count": 3,
   "metadata": {},
   "outputs": [],
   "source": [
    "import os\n",
    "import cv2  # OpenCV\n",
    "from PIL import Image  # For image processing\n",
    "import numpy as np"
   ]
  },
  {
   "cell_type": "code",
   "execution_count": 4,
   "metadata": {},
   "outputs": [],
   "source": [
    "def createVectorMap(inputImg):\n",
    "    # Read the image in grayscale\n",
    "    gray_img = cv2.imread(inputImg, cv2.IMREAD_GRAYSCALE)\n",
    "    \n",
    "    # Check if the image was loaded successfully\n",
    "    if gray_img is None:\n",
    "        print(\"Error: Image not loaded correctly.\")\n",
    "        return None\n",
    "    \n",
    "    # Process the image to create a vector map (example: edge detection)\n",
    "    edges = cv2.Canny(gray_img, 100, 200)\n",
    "    \n",
    "    return edges\n",
    "\n",
    "# Load the image\n",
    "img_path = r\"C:\\Users\\maxik\\Documents\\GitHub\\Nuron-text-recognition\\WNB-PUCD6-DH-1432-jdg\\WNB-PUCD6-DH-1229v6.png\"\n",
    "vector_map = createVectorMap(img_path)\n",
    "\n",
    "# Display the result\n",
    "if vector_map is not None:\n",
    "    cv2.imshow(\"Vector Map\", vector_map)\n",
    "    cv2.waitKey(0)\n",
    "    cv2.destroyAllWindows()"
   ]
  }
 ],
 "metadata": {
  "kernelspec": {
   "display_name": "base",
   "language": "python",
   "name": "python3"
  },
  "language_info": {
   "codemirror_mode": {
    "name": "ipython",
    "version": 3
   },
   "file_extension": ".py",
   "mimetype": "text/x-python",
   "name": "python",
   "nbconvert_exporter": "python",
   "pygments_lexer": "ipython3",
   "version": "3.11.7"
  }
 },
 "nbformat": 4,
 "nbformat_minor": 2
}
