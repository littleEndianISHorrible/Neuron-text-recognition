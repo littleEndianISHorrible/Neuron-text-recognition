{
 "cells": [
  {
   "cell_type": "code",
   "execution_count": 4,
   "metadata": {},
   "outputs": [
    {
     "ename": "SyntaxError",
     "evalue": "invalid syntax (2280041014.py, line 1)",
     "output_type": "error",
     "traceback": [
      "\u001b[1;36m  Cell \u001b[1;32mIn[4], line 1\u001b[1;36m\u001b[0m\n\u001b[1;33m    pipe install cmake\u001b[0m\n\u001b[1;37m         ^\u001b[0m\n\u001b[1;31mSyntaxError\u001b[0m\u001b[1;31m:\u001b[0m invalid syntax\n"
     ]
    }
   ],
   "source": [
    "pipe install cmake\n",
    "\n",
    "\n"
   ]
  },
  {
   "cell_type": "code",
   "execution_count": 1,
   "metadata": {},
   "outputs": [
    {
     "ename": "ModuleNotFoundError",
     "evalue": "No module named 'Image'",
     "output_type": "error",
     "traceback": [
      "\u001b[1;31m---------------------------------------------------------------------------\u001b[0m",
      "\u001b[1;31mModuleNotFoundError\u001b[0m                       Traceback (most recent call last)",
      "Cell \u001b[1;32mIn[1], line 3\u001b[0m\n\u001b[0;32m      1\u001b[0m \u001b[38;5;28;01mimport\u001b[39;00m \u001b[38;5;21;01mcv2\u001b[39;00m\n\u001b[0;32m      2\u001b[0m \u001b[38;5;28;01mimport\u001b[39;00m \u001b[38;5;21;01mnumpy\u001b[39;00m \n\u001b[1;32m----> 3\u001b[0m \u001b[38;5;28;01mimport\u001b[39;00m \u001b[38;5;21;01mImage\u001b[39;00m\n\u001b[0;32m      4\u001b[0m \u001b[38;5;28;01mimport\u001b[39;00m \u001b[38;5;21;01mos\u001b[39;00m\n\u001b[0;32m      5\u001b[0m \u001b[38;5;28;01mimport\u001b[39;00m \u001b[38;5;21;01mface_recognition\u001b[39;00m\n",
      "\u001b[1;31mModuleNotFoundError\u001b[0m: No module named 'Image'"
     ]
    }
   ],
   "source": [
    "import cv2\n",
    "import numpy \n",
    "import Image\n",
    "import os\n",
    "import face_recognition\n",
    "class isMouse:\n",
    "    key = Image #face image\n",
    "    action =0 #1,2,3, 1 right click, 2 middle, 3 left click\n",
    "    objectF = 0\n",
    "cam = cv2.VideoCapture(0)\n",
    "\n",
    "# Load the first image and convert it to RGB\n",
    "img1 = cv2.imread(\"path_to_first_image.jpg\")\n",
    "rgb_img1 = cv2.cvtColor(img1, cv2.COLOR_BGR2RGB)\n",
    "img1_encoding = face_recognition.face_encodings(rgb_img1)[0]\n",
    "\n",
    "# Load the second image and convert it to RGB\n",
    "\n",
    "while(1==1):\n",
    "# Read the input from the camera\n",
    "    ret, frame = cam.read()\n",
    "\n",
    "    if ret:\n",
    "        img2 = frame\n",
    "        isMouse.key = frame\n",
    "        rgb_img2 = cv2.cvtColor(img2, cv2.COLOR_BGR2RGB)\n",
    "        img2_encoding = face_recognition.face_encodings(rgb_img2)[0]\n",
    "        results = face_recognition.compare_faces([img1_encoding], img2_encoding)\n",
    "        if(results[0] == False):\n",
    "            break\n",
    "        cv2.findContours()\n",
    "    else:\n",
    "        print(\"Failed to capture image\")\n",
    "\n",
    "    # Release the camera\n",
    "cam.release()"
   ]
  },
  {
   "cell_type": "code",
   "execution_count": 2,
   "metadata": {},
   "outputs": [],
   "source": [
    "import cv2\n",
    "import numpy as np\n",
    "import copy\n",
    "import math\n",
    "\n",
    "def calculateFingers(res, drawing):\n",
    "    hull = cv2.convexHull(res, returnPoints=False)\n",
    "    if len(hull) > 3:\n",
    "        defects = cv2.convexityDefects(res, hull)\n",
    "        if defects is not None:\n",
    "            cnt = 0\n",
    "            for i in range(defects.shape[0]):\n",
    "                s, e, f, d = defects[i][0]\n",
    "                start = tuple(res[s][0])\n",
    "                end = tuple(res[e][0])\n",
    "                far = tuple(res[f][0])\n",
    "                a = math.sqrt((end[0] - start[0]) ** 2 + (end[1] - start[1]) ** 2)\n",
    "                b = math.sqrt((far[0] - start[0]) ** 2 + (far[1] - start[1]) ** 2)\n",
    "                c = math.sqrt((end[0] - far[0]) ** 2 + (end[1] - far[1]) ** 2)\n",
    "                angle = math.acos((b ** 2 + c ** 2 - a ** 2) / (2 * b * c))\n",
    "                if angle <= math.pi / 2:\n",
    "                    cnt += 1\n",
    "                    cv2.circle(drawing, far, 8, [211, 84, 0], -1)\n",
    "            if cnt > 0:\n",
    "                return True, cnt + 1\n",
    "            else:\n",
    "                return True, 0\n",
    "    return False, 0\n",
    "\n",
    "# Open Camera\n",
    "camera = cv2.VideoCapture(0)\n",
    "camera.set(10, 200)\n",
    "\n",
    "while camera.isOpened():\n",
    "    ret, frame = camera.read()\n",
    "    frame = cv2.bilateralFilter(frame, 5, 50, 100)  # Smoothing\n",
    "    frame = cv2.flip(frame, 1)  # Horizontal Flip\n",
    "    cv2.imshow('original', frame)\n",
    "\n",
    "    # Background Removal\n",
    "    bgModel = cv2.createBackgroundSubtractorMOG2(0, 50)\n",
    "    fgmask = bgModel.apply(frame)\n",
    "    kernel = np.ones((3, 3), np.uint8)\n",
    "    fgmask = cv2.erode(fgmask, kernel, iterations=1)\n",
    "    img = cv2.bitwise_and(frame, frame, mask=fgmask)\n",
    "\n",
    "    # Skin detect and thresholding\n",
    "    hsv = cv2.cvtColor(img, cv2.COLOR_BGR2HSV)\n",
    "    lower = np.array([0, 48, 80], dtype=\"uint8\")\n",
    "    upper = np.array([20, 255, 255], dtype=\"uint8\")\n",
    "    skinMask = cv2.inRange(hsv, lower, upper)\n",
    "    cv2.imshow('Threshold Hands', skinMask)\n",
    "\n",
    "    # Getting the contours and convex hull\n",
    "    skinMask1 = copy.deepcopy(skinMask)\n",
    "    contours, hierarchy = cv2.findContours(skinMask1, cv2.RETR_TREE, cv2.CHAIN_APPROX_SIMPLE)\n",
    "    length = len(contours)\n",
    "    maxArea = -1\n",
    "    # ... (continue with your desired hand tracking logic)\n",
    "    # Remember to release the camera and close the windows when done.\n",
    "    cv2.destroyAllWindows()\n",
    "    camera.release()\n"
   ]
  }
 ],
 "metadata": {
  "kernelspec": {
   "display_name": "base",
   "language": "python",
   "name": "python3"
  },
  "language_info": {
   "codemirror_mode": {
    "name": "ipython",
    "version": 3
   },
   "file_extension": ".py",
   "mimetype": "text/x-python",
   "name": "python",
   "nbconvert_exporter": "python",
   "pygments_lexer": "ipython3",
   "version": "3.11.7"
  }
 },
 "nbformat": 4,
 "nbformat_minor": 2
}
