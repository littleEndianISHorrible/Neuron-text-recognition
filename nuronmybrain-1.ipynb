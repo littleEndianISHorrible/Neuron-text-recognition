{
 "cells": [
  {
   "cell_type": "code",
   "execution_count": 5,
   "metadata": {},
   "outputs": [
    {
     "name": "stdout",
     "output_type": "stream",
     "text": [
      "[[0, 0, 0, 0, 0, 0, 0, 0, 0, 0], [0, 0, 0, 0, 0, 0, 0, 0, 0, 0], [0, 0, 0, 0, 0, 0, 0, 0, 0, 0], [0, 0, 0, 0, 0, 0, 0, 0, 0, 0], [0, 0, 0, 0, 0, 0, 0, 0, 0, 0], [0, 0, 0, 0, 0, 0, 0, 0, 0, 0], [0, 0, 0, 0, 0, 0, 0, 0, 0, 0], [0, 0, 0, 0, 0, 0, 0, 0, 0, 0], [0, 0, 0, 0, 0, 0, 0, 0, 0, 0], [0, 0, 0, 0, 0, 0, 0, 0, 0, 0]]\n"
     ]
    }
   ],
   "source": [
    "class weightmatrix:\n",
    "    height = 0\n",
    "    width = 0\n",
    "    array2d = [[]]\n",
    "weightmatrix.height=10\n",
    "weightmatrix.width=10\n",
    "weightmatrix.array2d = [[0]*weightmatrix.height]*weightmatrix.width\n",
    "inputV = 0\n",
    "EntitesInOutput=2\n",
    "outputlist = [0]*EntitesInOutput\n",
    "def enumerateNuron(inputv, outputl, weights, heightofmatrix,widthofmatrix):\n",
    "    bufferlist = [[0]*heightofmatrix]*widthofmatrix\n",
    "    if(type(inputv) == list):\n",
    "        for i in range(len(bufferlist[0])):\n",
    "            try:\n",
    "                bufferlist[0][i]+=sum(inputv)/len(inputv) * weights[0][i]\n",
    "            except:\n",
    "                pass\n",
    "    for j in range(len(weights)):\n",
    "        if j ==0:\n",
    "            j=1\n",
    "        for k in range(len(bufferlist[j])):\n",
    "            try:\n",
    "                bufferlist[j][k]=[for i in bufferlist[j-1]]\n",
    "    \n",
    "print(weightmatrix.array2d)"
   ]
  }
 ],
 "metadata": {
  "kernelspec": {
   "display_name": "base",
   "language": "python",
   "name": "python3"
  },
  "language_info": {
   "codemirror_mode": {
    "name": "ipython",
    "version": 3
   },
   "file_extension": ".py",
   "mimetype": "text/x-python",
   "name": "python",
   "nbconvert_exporter": "python",
   "pygments_lexer": "ipython3",
   "version": "3.11.7"
  }
 },
 "nbformat": 4,
 "nbformat_minor": 2
}
