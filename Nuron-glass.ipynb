{
 "cells": [
  {
   "cell_type": "code",
   "execution_count": 3,
   "metadata": {},
   "outputs": [],
   "source": [
    "import pandas as dp\n",
    "import matplotlib.pyplot as plt\n",
    "from PIL import Image\n",
    "import cv2\n",
    "import os\n",
    "import numpy as np"
   ]
  },
  {
   "cell_type": "code",
   "execution_count": 17,
   "metadata": {},
   "outputs": [
    {
     "ename": "ValueError",
     "evalue": "The truth value of an array with more than one element is ambiguous. Use a.any() or a.all()",
     "output_type": "error",
     "traceback": [
      "\u001b[1;31m---------------------------------------------------------------------------\u001b[0m",
      "\u001b[1;31mValueError\u001b[0m                                Traceback (most recent call last)",
      "Cell \u001b[1;32mIn[17], line 26\u001b[0m\n\u001b[0;32m     23\u001b[0m                 k\u001b[38;5;241m=\u001b[39md\u001b[38;5;241m*\u001b[39mt\u001b[38;5;241m+\u001b[39mk\n\u001b[0;32m     24\u001b[0m     \u001b[38;5;28;01mreturn\u001b[39;00m output\n\u001b[1;32m---> 26\u001b[0m \u001b[38;5;28mprint\u001b[39m(evaluate(weights, [\u001b[38;5;241m1\u001b[39m, \u001b[38;5;241m0.3\u001b[39m, \u001b[38;5;241m2\u001b[39m], \u001b[38;5;241m2\u001b[39m))\n",
      "Cell \u001b[1;32mIn[17], line 18\u001b[0m, in \u001b[0;36mevaluate\u001b[1;34m(weights, input, outputnodes)\u001b[0m\n\u001b[0;32m     16\u001b[0m                 \u001b[38;5;28;01mif\u001b[39;00m(\u001b[38;5;28mlen\u001b[39m(output_buffer) \u001b[38;5;241m<\u001b[39m\u001b[38;5;241m=\u001b[39m \u001b[38;5;28mlen\u001b[39m(j)):\n\u001b[0;32m     17\u001b[0m                     output_buffer\u001b[38;5;241m.\u001b[39mappend(i\u001b[38;5;241m*\u001b[39mx)\n\u001b[1;32m---> 18\u001b[0m         \u001b[38;5;28;01mif\u001b[39;00m (weights\u001b[38;5;241m.\u001b[39mtolist())\u001b[38;5;241m.\u001b[39mindex(j) \u001b[38;5;241m>\u001b[39m\u001b[38;5;241m=\u001b[39m (\u001b[38;5;28mlen\u001b[39m(weights)\u001b[38;5;241m-\u001b[39m\u001b[38;5;241m1\u001b[39m):\n\u001b[0;32m     19\u001b[0m             \u001b[38;5;28;01mbreak\u001b[39;00m\n\u001b[0;32m     20\u001b[0m \u001b[38;5;28;01mfor\u001b[39;00m k \u001b[38;5;129;01min\u001b[39;00m output:\n",
      "\u001b[1;31mValueError\u001b[0m: The truth value of an array with more than one element is ambiguous. Use a.any() or a.all()"
     ]
    }
   ],
   "source": [
    "layers = 100\n",
    "highet = 100\n",
    "img = Image.new(\"L\", (layers, highet), 0)\n",
    "\n",
    "weights = np.asarray(img)\n",
    "\n",
    "def evaluate(weights, input, outputnodes):\n",
    "    output_buffer = []\n",
    "    output = [0 for i in range(outputnodes)]\n",
    "    for i in input:\n",
    "        for j in weights:\n",
    "            for x in j:\n",
    "                try:\n",
    "                    output_buffer[j.index(x)] = i*x\n",
    "                except:\n",
    "                    if(len(output_buffer) <= len(j)):\n",
    "                        output_buffer.append(i*x)\n",
    "            if (weights.tolist()).index(j) >= (len(weights)-1):\n",
    "                break\n",
    "    for k in output:\n",
    "        for d in output_buffer:\n",
    "            for t in weights:\n",
    "                k=d*t+k\n",
    "    return output\n",
    "\n",
    "print(evaluate(weights, [1, 0.3, 2], 2))"
   ]
  },
  {
   "cell_type": "code",
   "execution_count": null,
   "metadata": {},
   "outputs": [],
   "source": []
  }
 ],
 "metadata": {
  "kernelspec": {
   "display_name": "base",
   "language": "python",
   "name": "python3"
  },
  "language_info": {
   "codemirror_mode": {
    "name": "ipython",
    "version": 3
   },
   "file_extension": ".py",
   "mimetype": "text/x-python",
   "name": "python",
   "nbconvert_exporter": "python",
   "pygments_lexer": "ipython3",
   "version": "3.11.7"
  }
 },
 "nbformat": 4,
 "nbformat_minor": 2
}
